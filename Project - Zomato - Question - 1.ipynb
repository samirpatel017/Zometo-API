{
 "cells": [
  {
   "cell_type": "code",
   "execution_count": 9,
   "metadata": {},
   "outputs": [],
   "source": [
    "import pandas as pd\n",
    "import numpy as np\n",
    "import matplotlib.pyplot as plt\n",
    "import requests \n",
    "import json\n"
   ]
  },
  {
   "cell_type": "markdown",
   "metadata": {},
   "source": [
    "# Question : The dataset is highly skewed toward the cities included in Delhi-NCR. So, we will summarise all the other cities in Rest of India while those in New Delhi, Ghaziabad, Noida, Gurgaon, Faridabad to Delhi-NCR. Doing this would make our analysis turn toward Delhi-NCR v Rest of India."
   ]
  },
  {
   "cell_type": "code",
   "execution_count": 10,
   "metadata": {},
   "outputs": [],
   "source": [
    "file_data = pd.read_csv('Datasets/zomato.csv',encoding='iso-8859-1')"
   ]
  },
  {
   "cell_type": "code",
   "execution_count": 11,
   "metadata": {},
   "outputs": [],
   "source": [
    "df = file_data.copy()\n",
    "df = df[df['Country Code'] == 1]\n",
    "df['City'].replace(['New Delhi','Ghaziabad','Noida','Gurgaon','Faridabad'],'Delhi NCR',inplace=True)\n",
    "Delhi_NCR = df[df['City'] == 'Delhi NCR']['City'].count()\n",
    "India_count = df[ df['City'] != 'Delhi NCR' ]['City'].count()"
   ]
  },
  {
   "cell_type": "markdown",
   "metadata": {},
   "source": [
    "# Plot the bar graph of number of restaurants present in Delhi NCR vs Rest of India."
   ]
  },
  {
   "cell_type": "markdown",
   "metadata": {},
   "source": [
    "### Here we have in first changed the names of 'Faridabad','Noida','New Delhi','Gurgaon','Ghaziabad' to 'Delhi NCR'. Then the graph is plotted by making count of restaurants in 'Delhi NCR' and 'India' (Rest of India)"
   ]
  },
  {
   "cell_type": "code",
   "execution_count": 19,
   "metadata": {},
   "outputs": [
    {
     "data": {
      "image/png": "[encoded data removed]",
      "text/plain": [
       "<Figure size 432x288 with 1 Axes>"
      ]
     },
     "metadata": {
      "needs_background": "light"
     },
     "output_type": "display_data"
    }
   ],
   "source": [
    "x = ['Delhi_NCR','India']\n",
    "y = [Delhi_NCR,India_count]\n",
    "z = ['red','green']\n",
    "for i in range(2):\n",
    "    plt.bar(x[i],y[i],width=0.3,color=z[i],edgecolor=['black'],\n",
    "        label = x[i])\n",
    "plt.legend()\n",
    "plt.savefig('fig1.png',orientation='portrait',dpi=100,bbox_inches='tight')\n",
    "plt.show()"
   ]
  },
  {
   "cell_type": "markdown",
   "metadata": {},
   "source": [
    "# Find the cuisines which are not present in restaurant of Delhi NCR but present in rest of India.Check using Zomato API whether this cuisines are actually not served in restaurants of Delhi-NCR or just it due to incomplete dataset."
   ]
  },
  {
   "cell_type": "markdown",
   "metadata": {},
   "source": [
    "### First we have made 2 sets namely set1 for the Cuisines that are in 'Delhi NCR' and set2 for all the Cuisines that are present in 'Rest of India' Then to find out the Cuisines ehich are not served in 'Delhi NCR' but in the rest of India .... set2-set1 is done......Then we have made api call in zomato to find all cuisines that are served in Delhi to check out the valdity of our answer"
   ]
  },
  {
   "cell_type": "code",
   "execution_count": 236,
   "metadata": {},
   "outputs": [
    {
     "data": {
      "text/plain": [
       "{'BBQ', 'Cajun', 'German', 'Malwani'}"
      ]
     },
     "execution_count": 236,
     "metadata": {},
     "output_type": "execute_result"
    }
   ],
   "source": [
    "d = df[ df.City == 'Delhi NCR'].Cuisines.str.split(', ')\n",
    "set1 = set().union(*d)\n",
    "i = df[ df.City != 'Delhi NCR' ].Cuisines.str.split(', ')\n",
    "set2 = set().union(*i)\n",
    "set2-set1"
   ]
  },
  {
   "cell_type": "code",
   "execution_count": 237,
   "metadata": {
    "scrolled": true
   },
   "outputs": [
    {
     "data": {
      "text/plain": [
       "{'Afghan',\n",
       " 'African',\n",
       " 'American',\n",
       " 'Andhra',\n",
       " 'Arabian',\n",
       " 'Armenian',\n",
       " 'Asian',\n",
       " 'Assamese',\n",
       " 'Awadhi',\n",
       " 'BBQ',\n",
       " 'Bakery',\n",
       " 'Bar Food',\n",
       " 'Belgian',\n",
       " 'Bengali',\n",
       " 'Beverages',\n",
       " 'Bihari',\n",
       " 'Biryani',\n",
       " 'Brazilian',\n",
       " 'British',\n",
       " 'Bubble Tea',\n",
       " 'Burger',\n",
       " 'Burmese',\n",
       " 'Cafe',\n",
       " 'Cantonese',\n",
       " 'Charcoal Chicken',\n",
       " 'Chettinad',\n",
       " 'Chinese',\n",
       " 'Coffee',\n",
       " 'Continental',\n",
       " 'Cuisine Varies',\n",
       " 'Desserts',\n",
       " 'Ethiopian',\n",
       " 'European',\n",
       " 'Fast Food',\n",
       " 'Finger Food',\n",
       " 'French',\n",
       " 'Frozen Yogurt',\n",
       " 'Garhwali',\n",
       " 'Goan',\n",
       " 'Greek',\n",
       " 'Grocery',\n",
       " 'Gujarati',\n",
       " 'Healthy Food',\n",
       " 'Hot dogs',\n",
       " 'Hyderabadi',\n",
       " 'Ice Cream',\n",
       " 'Indonesian',\n",
       " 'Iranian',\n",
       " 'Israeli',\n",
       " 'Italian',\n",
       " 'Japanese',\n",
       " 'Juices',\n",
       " 'Kashmiri',\n",
       " 'Kebab',\n",
       " 'Kerala',\n",
       " 'Korean',\n",
       " 'Lebanese',\n",
       " 'Lucknowi',\n",
       " 'Maharashtrian',\n",
       " 'Malaysian',\n",
       " 'Malwani',\n",
       " 'Mangalorean',\n",
       " 'Mediterranean',\n",
       " 'Mexican',\n",
       " 'Middle Eastern',\n",
       " 'Mishti',\n",
       " 'Mithai',\n",
       " 'Modern Indian',\n",
       " 'Momos',\n",
       " 'Mongolian',\n",
       " 'Moroccan',\n",
       " 'Mughlai',\n",
       " 'Naga',\n",
       " 'Nepalese',\n",
       " 'North Eastern',\n",
       " 'North Indian',\n",
       " 'Odia',\n",
       " 'Paan',\n",
       " 'Pakistani',\n",
       " 'Panini',\n",
       " 'Parsi',\n",
       " 'Pizza',\n",
       " 'Poké',\n",
       " 'Portuguese',\n",
       " 'Rajasthani',\n",
       " 'Raw Meats',\n",
       " 'Relief fund',\n",
       " 'Roast Chicken',\n",
       " 'Rolls',\n",
       " 'Russian',\n",
       " 'Salad',\n",
       " 'Sandwich',\n",
       " 'Seafood',\n",
       " 'Sindhi',\n",
       " 'Singaporean',\n",
       " 'South American',\n",
       " 'South Indian',\n",
       " 'Spanish',\n",
       " 'Sri Lankan',\n",
       " 'Steak',\n",
       " 'Street Food',\n",
       " 'Sushi',\n",
       " 'Tamil',\n",
       " 'Tea',\n",
       " 'Tex-Mex',\n",
       " 'Thai',\n",
       " 'Tibetan',\n",
       " 'Turkish',\n",
       " 'Vietnamese',\n",
       " 'Wraps'}"
      ]
     },
     "execution_count": 237,
     "metadata": {},
     "output_type": "execute_result"
    }
   ],
   "source": [
    "header={\"user-key\":\"f3514a443a505717a807639f51a09369\" , 'Accept': 'application/json'}\n",
    "response=requests.get('https://developers.zomato.com/api/v2.1/cuisines',headers=header,\n",
    "                      params={'city_id':1})\n",
    "python_data = response.json()\n",
    "\n",
    "# The total cuisnes that are in delhi\n",
    "# This is made by API call with city-id 1\n",
    "d = set()\n",
    "for i in python_data['cuisines']:\n",
    "    d.add(i['cuisine']['cuisine_name'])\n",
    "d"
   ]
  },
  {
   "cell_type": "code",
   "execution_count": 238,
   "metadata": {},
   "outputs": [
    {
     "name": "stdout",
     "output_type": "stream",
     "text": [
      "BBQ True\n",
      "German False\n",
      "Malwani True\n",
      "Cajun False\n"
     ]
    }
   ],
   "source": [
    "for i in set2-set1:\n",
    "    print(i,i in d)"
   ]
  },
  {
   "cell_type": "code",
   "execution_count": 239,
   "metadata": {},
   "outputs": [
    {
     "name": "stdout",
     "output_type": "stream",
     "text": [
      "{'BBQ', 'German', 'Malwani', 'Cajun'}\n"
     ]
    }
   ],
   "source": [
    "print(set2-set1)"
   ]
  },
  {
   "cell_type": "markdown",
   "metadata": {},
   "source": [
    "### The answer from our dataset is {'BBQ', 'Cajun', 'German', 'Malwani'} i.e these Cuisines are served in Rest of india but not in delhi ...... While fro our api {'BBQ ','Malwani'} are served in delhi"
   ]
  },
  {
   "cell_type": "code",
   "execution_count": 240,
   "metadata": {},
   "outputs": [
    {
     "name": "stdout",
     "output_type": "stream",
     "text": [
      "BBQ True\n",
      "German False\n",
      "Malwani True\n",
      "Cajun False\n"
     ]
    }
   ],
   "source": [
    "for i in (set2-set1):\n",
    "    print(i,i in d)"
   ]
  },
  {
   "cell_type": "markdown",
   "metadata": {},
   "source": [
    "# Find the top 10 cuisines served by maximum number of restaurants in Delhi NCR and rest of India."
   ]
  },
  {
   "cell_type": "markdown",
   "metadata": {},
   "source": [
    "### here i have made a dictionary for all the cuisines and then i have sorted them on the basis of their total number(values) ...Then plotted the bar bar graph for the same\n"
   ]
  },
  {
   "cell_type": "code",
   "execution_count": 21,
   "metadata": {},
   "outputs": [],
   "source": [
    "df = file_data.copy()\n",
    "df['City'].replace(['New Delhi','Ghaziabad','Noida','Gurgaon','Faridabad'],'Delhi NCR',inplace=True)\n",
    "df = df[ df['Country Code'] == 1 ]\n",
    "delhi = df[ df['City'] == 'Delhi NCR']\n",
    "india = df[df['City'] != 'Delhi NCR']\n",
    "d = {}\n",
    "i = {}\n",
    "for b in delhi.Cuisines:\n",
    "    x = b.split(', ')\n",
    "    for j in x:\n",
    "        d[j] = d.get(j,0) + 1\n",
    "\n",
    "for a in india.Cuisines:\n",
    "    x = a.split(', ')\n",
    "    for j in x:\n",
    "        i[j] = i.get(j,0) + 1\n",
    "        \n",
    "d = sorted(d.items(),key = lambda x:x[1],reverse=True)\n",
    "d = dict(d[:10])\n",
    "xd = d.keys()\n",
    "yd = d.values()\n",
    "i = sorted(i.items(),key = lambda x:x[1],reverse=True)\n",
    "i = dict(i[:10])\n",
    "xi = i.keys()\n",
    "yi = i.values()"
   ]
  },
  {
   "cell_type": "code",
   "execution_count": 22,
   "metadata": {},
   "outputs": [
    {
     "data": {
      "image/png": "[encoded data removed]",
      "text/plain": [
       "<Figure size 432x288 with 1 Axes>"
      ]
     },
     "metadata": {
      "needs_background": "light"
     },
     "output_type": "display_data"
    }
   ],
   "source": [
    "plt.bar(xd,yd,color='black',label=['Delhi NCR'])\n",
    "plt.legend()\n",
    "\n",
    "plt.xticks(rotation=40)\n",
    "plt.savefig('fig1.png',orientation='portrait',dpi=100,bbox_inches='tight')\n",
    "plt.show()"
   ]
  },
  {
   "cell_type": "markdown",
   "metadata": {},
   "source": [
    "# Write a short detailed analysis of how cuisine served is different from Delhi NCR to Rest of India. Plot the suitable graph to explain your inference."
   ]
  },
  {
   "cell_type": "markdown",
   "metadata": {},
   "source": [
    "### Below given graph is for Cuisines that are served in the Rest of india"
   ]
  },
  {
   "cell_type": "code",
   "execution_count": 23,
   "metadata": {},
   "outputs": [
    {
     "data": {
      "image/png": "[encoded data removed]",
      "text/plain": [
       "<Figure size 432x288 with 1 Axes>"
      ]
     },
     "metadata": {
      "needs_background": "light"
     },
     "output_type": "display_data"
    }
   ],
   "source": [
    "import matplotlib.pyplot as plt\n",
    "plt.clf()\n",
    "plt.bar(xi,yi,color='red',label='Rest of India')\n",
    "plt.legend()\n",
    "plt.xticks(rotation=90)\n",
    "plt.savefig('fig1.png',orientation='portrait',dpi=100,bbox_inches='tight')\n",
    "plt.show()"
   ]
  },
  {
   "cell_type": "code",
   "execution_count": 25,
   "metadata": {},
   "outputs": [
    {
     "data": {
      "image/png": "[encoded data removed]",
      "text/plain": [
       "<Figure size 432x288 with 1 Axes>"
      ]
     },
     "metadata": {
      "needs_background": "light"
     },
     "output_type": "display_data"
    }
   ],
   "source": [
    "import matplotlib\n",
    "import matplotlib.pyplot as plt\n",
    "import numpy as np\n",
    "\n",
    "x = np.arange(len(d))  # the label locations\n",
    "width = 0.4  # the width of the bars\n",
    "\n",
    "fig, ax = plt.subplots()\n",
    "rects1 = ax.bar(x - width/2, yd, width, label='Delhi NCR',color='red')\n",
    "rects2 = ax.bar(x + width/2, yi, width, label='Rest of India',color='green')\n",
    "\n",
    "# Add some text for labels, title and custom x-axis tick labels, etc.\n",
    "ax.set_ylabel('Scores')\n",
    "ax.set_title('Delhi_NCR vs Rest_of_India')\n",
    "ax.set_xticks(x)\n",
    "ax.set_xticklabels(xd, rotation=45)\n",
    "ax.legend()\n",
    "\n",
    "\n",
    "def autolabel(rects):\n",
    "    \"\"\"Attach a text label above each bar in *rects*, displaying its height.\"\"\"\n",
    "    for rect in rects:\n",
    "        height = rect.get_height()\n",
    "        ax.annotate('{}'.format(height),\n",
    "                    xy=(rect.get_x() + rect.get_width() / 2, height),\n",
    "                    xytext=(0, 3),  \n",
    "                    textcoords=\"offset points\",\n",
    "                    ha='center', va='bottom')\n",
    "\n",
    "\n",
    "autolabel(rects1)\n",
    "autolabel(rects2)\n",
    "\n",
    "fig.tight_layout()\n",
    "plt.savefig('fig1.png',orientation='portrait',dpi=100,bbox_inches='tight')\n",
    "plt.show()"
   ]
  },
  {
   "cell_type": "markdown",
   "metadata": {},
   "source": [
    "### Gievn above graph gives us the direct comparision between the Cuisines that are in both."
   ]
  },
  {
   "cell_type": "markdown",
   "metadata": {},
   "source": [
    "### From it we can say that the trend of Cuisines is same in both although their number vary but the top Cuisines observe the same trend in both"
   ]
  },
  {
   "cell_type": "markdown",
   "metadata": {},
   "source": [
    "### Like Northindian is top in both and then further the same trend is seen ... as i mentioned earlier that though their number vary"
   ]
  }
 ],
 "metadata": {
  "kernelspec": {
   "display_name": "Python 3",
   "language": "python",
   "name": "python3"
  },
  "language_info": {
   "codemirror_mode": {
    "name": "ipython",
    "version": 3
   },
   "file_extension": ".py",
   "mimetype": "text/x-python",
   "name": "python",
   "nbconvert_exporter": "python",
   "pygments_lexer": "ipython3",
   "version": "3.7.6"
  }
 },
 "nbformat": 4,
 "nbformat_minor": 4
}
